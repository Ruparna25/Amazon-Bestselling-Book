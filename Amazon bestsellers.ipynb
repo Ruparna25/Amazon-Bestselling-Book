{
 "cells": [
  {
   "cell_type": "code",
   "execution_count": 60,
   "id": "6f0589c4-6b3c-41b0-bd86-995e083d883f",
   "metadata": {},
   "outputs": [],
   "source": [
    "#Question Details - Dataset Amazon best selling book list\n",
    "\n",
    "#Which author's books receive the highest average rating (top authors).\n",
    "#Which author has written the most bestsellers (top authors).\n",
    "#Which book has the most reviews (top books).\n",
    "#Which genres become bestsellers more often.\n",
    "#Are genres different by rating."
   ]
  },
  {
   "cell_type": "code",
   "execution_count": 1,
   "id": "01733410-901b-4a9f-9950-7b3baf8c2166",
   "metadata": {},
   "outputs": [
    {
     "name": "stdout",
     "output_type": "stream",
     "text": [
      "                                                Name  \\\n",
      "0                      10-Day Green Smoothie Cleanse   \n",
      "1                                  11/22/63: A Novel   \n",
      "2            12 Rules for Life: An Antidote to Chaos   \n",
      "3                             1984 (Signet Classics)   \n",
      "4  5,000 Awesome Facts (About Everything!) (Natio...   \n",
      "\n",
      "                     Author  User Rating  Reviews  Price  Year        Genre  \n",
      "0                  JJ Smith          4.7    17350      8  2016  Non Fiction  \n",
      "1              Stephen King          4.6     2052     22  2011      Fiction  \n",
      "2        Jordan B. Peterson          4.7    18979     15  2018  Non Fiction  \n",
      "3             George Orwell          4.7    21424      6  2017      Fiction  \n",
      "4  National Geographic Kids          4.8     7665     12  2019  Non Fiction  \n"
     ]
    }
   ],
   "source": [
    "import pandas as pd\n",
    "\n",
    "books_df=pd.read_csv('bestsellers with categories.csv')\n",
    "print(books_df.head())\n",
    "\n",
    "print(books_df.info())"
   ]
  },
  {
   "cell_type": "code",
   "execution_count": 3,
   "id": "89cb079e-d303-47a9-a709-a6826318a951",
   "metadata": {},
   "outputs": [
    {
     "name": "stdout",
     "output_type": "stream",
     "text": [
      "248\n",
      "246\n"
     ]
    }
   ],
   "source": [
    "print(books_df['Author'].sort_values().nunique())\n",
    "books_df=books_df.replace('George R. R. Martin', 'George R.R. Martin')\n",
    "books_df=books_df.replace('J. K. Rowling', 'J.K. Rowling')\n",
    "print(books_df['Author'].sort_values().nunique())"
   ]
  },
  {
   "cell_type": "code",
   "execution_count": 4,
   "id": "1401ab48-d93e-4a87-b3f8-d2554282ce5f",
   "metadata": {},
   "outputs": [
    {
     "name": "stdout",
     "output_type": "stream",
     "text": [
      "['Fiction' 'Non Fiction']\n",
      "[2009 2010 2011 2012 2013 2014 2015 2016 2017 2018 2019]\n"
     ]
    }
   ],
   "source": [
    "print(books_df['Genre'].sort_values().unique())\n",
    "print(books_df['Year'].sort_values().unique())"
   ]
  },
  {
   "cell_type": "code",
   "execution_count": 5,
   "id": "62536eeb-746f-4910-abce-92a46fe1785c",
   "metadata": {},
   "outputs": [
    {
     "name": "stdout",
     "output_type": "stream",
     "text": [
      "                                                 Name  \\\n",
      "0                       10-Day Green Smoothie Cleanse   \n",
      "1                                   11/22/63: A Novel   \n",
      "2             12 Rules for Life: An Antidote to Chaos   \n",
      "3                              1984 (Signet Classics)   \n",
      "4   5,000 Awesome Facts (About Everything!) (Natio...   \n",
      "5       A Dance with Dragons (A Song of Ice and Fire)   \n",
      "6   A Game of Thrones / A Clash of Kings / A Storm...   \n",
      "7                      A Gentleman in Moscow: A Novel   \n",
      "8       A Higher Loyalty: Truth, Lies, and Leadership   \n",
      "9                           A Man Called Ove: A Novel   \n",
      "10                          A Man Called Ove: A Novel   \n",
      "11  A Patriot's History of the United States: From...   \n",
      "12                            A Stolen Life: A Memoir   \n",
      "13                   A Wrinkle in Time (Time Quintet)   \n",
      "14  Act Like a Lady, Think Like a Man: What Men Re...   \n",
      "15  Adult Coloring Book Designs: Stress Relief Col...   \n",
      "16  Adult Coloring Book: Stress Relieving Animal D...   \n",
      "17     Adult Coloring Book: Stress Relieving Patterns   \n",
      "18  Adult Coloring Books: A Coloring Book for Adul...   \n",
      "19                                 Alexander Hamilton   \n",
      "20                        All the Light We Cannot See   \n",
      "21                        All the Light We Cannot See   \n",
      "22                                          Allegiant   \n",
      "23  American Sniper: The Autobiography of the Most...   \n",
      "24                           And the Mountains Echoed   \n",
      "25  Arguing with Idiots: How to Stop Small Minds a...   \n",
      "26                 Astrophysics for People in a Hurry   \n",
      "27                Autobiography of Mark Twain, Vol. 1   \n",
      "28                       Baby Touch and Feel: Animals   \n",
      "29           Balance (Angie's Extreme Stress Menders)   \n",
      "30  Barefoot Contessa Foolproof: Recipes You Can T...   \n",
      "31  Barefoot Contessa, How Easy Is That?: Fabulous...   \n",
      "32                                           Becoming   \n",
      "33                                           Becoming   \n",
      "34  Being Mortal: Medicine and What Matters in the...   \n",
      "35                           Between the World and Me   \n",
      "36                           Between the World and Me   \n",
      "37                                        Born to Run   \n",
      "38          Breaking Dawn (The Twilight Saga, Book 4)   \n",
      "39  Broke: The Plan to Restore Our Trust, Truth an...   \n",
      "40           Brown Bear, Brown Bear, What Do You See?   \n",
      "41           Brown Bear, Brown Bear, What Do You See?   \n",
      "42         Cabin Fever (Diary of a Wimpy Kid, Book 6)   \n",
      "43  Calm the F*ck Down: An Irreverent Adult Colori...   \n",
      "44  Can't Hurt Me: Master Your Mind and Defy the Odds   \n",
      "45                Capital in the Twenty First Century   \n",
      "46                   Catching Fire (The Hunger Games)   \n",
      "47                   Catching Fire (The Hunger Games)   \n",
      "48                   Catching Fire (The Hunger Games)   \n",
      "49  Cravings: Recipes for All the Food You Want to...   \n",
      "\n",
      "                         Author  User Rating  Reviews  Price  Year  \\\n",
      "0                      JJ Smith          4.7    17350      8  2016   \n",
      "1                  Stephen King          4.6     2052     22  2011   \n",
      "2            Jordan B. Peterson          4.7    18979     15  2018   \n",
      "3                 George Orwell          4.7    21424      6  2017   \n",
      "4      National Geographic Kids          4.8     7665     12  2019   \n",
      "5            George R.R. Martin          4.4    12643     11  2011   \n",
      "6            George R.R. Martin          4.7    19735     30  2014   \n",
      "7                   Amor Towles          4.7    19699     15  2017   \n",
      "8                   James Comey          4.7     5983      3  2018   \n",
      "9               Fredrik Backman          4.6    23848      8  2016   \n",
      "10              Fredrik Backman          4.6    23848      8  2017   \n",
      "11             Larry Schweikart          4.6      460      2  2010   \n",
      "12                Jaycee Dugard          4.6     4149     32  2011   \n",
      "13            Madeleine L'Engle          4.5     5153      5  2018   \n",
      "14                 Steve Harvey          4.6     5013     17  2009   \n",
      "15  Adult Coloring Book Designs          4.5     2313      4  2016   \n",
      "16           Blue Star Coloring          4.6     2925      6  2015   \n",
      "17           Blue Star Coloring          4.4     2951      6  2015   \n",
      "18    Coloring Books for Adults          4.5     2426      8  2015   \n",
      "19                  Ron Chernow          4.8     9198     13  2016   \n",
      "20                Anthony Doerr          4.6    36348     14  2014   \n",
      "21                Anthony Doerr          4.6    36348     14  2015   \n",
      "22                Veronica Roth          3.9     6310     13  2013   \n",
      "23                   Chris Kyle          4.6    15921      9  2015   \n",
      "24              Khaled Hosseini          4.3    12159     13  2013   \n",
      "25                   Glenn Beck          4.6      798      5  2009   \n",
      "26          Neil deGrasse Tyson          4.7     9374      9  2017   \n",
      "27                   Mark Twain          4.2      491     14  2010   \n",
      "28                           DK          4.6     5360      5  2015   \n",
      "29                  Angie Grace          4.6     1909     11  2015   \n",
      "30                   Ina Garten          4.8     1296     24  2012   \n",
      "31                   Ina Garten          4.7      615     21  2010   \n",
      "32               Michelle Obama          4.8    61133     11  2018   \n",
      "33               Michelle Obama          4.8    61133     11  2019   \n",
      "34                 Atul Gawande          4.8    11113     15  2015   \n",
      "35             Ta-Nehisi Coates          4.7    10070     13  2015   \n",
      "36             Ta-Nehisi Coates          4.7    10070     13  2016   \n",
      "37            Bruce Springsteen          4.7     3729     18  2016   \n",
      "38              Stephenie Meyer          4.6     9769     13  2009   \n",
      "39                   Glenn Beck          4.5      471      8  2010   \n",
      "40              Bill Martin Jr.          4.9    14344      5  2017   \n",
      "41              Bill Martin Jr.          4.9    14344      5  2019   \n",
      "42                  Jeff Kinney          4.8     4505      0  2011   \n",
      "43                 Sasha O'Hara          4.6    10369      4  2016   \n",
      "44                David Goggins          4.8    16244     18  2019   \n",
      "45               Thomas Piketty          4.5     2884     28  2014   \n",
      "46              Suzanne Collins          4.7    22614     11  2010   \n",
      "47              Suzanne Collins          4.7    22614     11  2011   \n",
      "48              Suzanne Collins          4.7    22614     11  2012   \n",
      "49               Chrissy Teigen          4.7     4761     16  2016   \n",
      "\n",
      "          Genre  \n",
      "0   Non Fiction  \n",
      "1       Fiction  \n",
      "2   Non Fiction  \n",
      "3       Fiction  \n",
      "4   Non Fiction  \n",
      "5       Fiction  \n",
      "6       Fiction  \n",
      "7       Fiction  \n",
      "8   Non Fiction  \n",
      "9       Fiction  \n",
      "10      Fiction  \n",
      "11  Non Fiction  \n",
      "12  Non Fiction  \n",
      "13      Fiction  \n",
      "14  Non Fiction  \n",
      "15  Non Fiction  \n",
      "16  Non Fiction  \n",
      "17  Non Fiction  \n",
      "18  Non Fiction  \n",
      "19  Non Fiction  \n",
      "20      Fiction  \n",
      "21      Fiction  \n",
      "22      Fiction  \n",
      "23  Non Fiction  \n",
      "24      Fiction  \n",
      "25  Non Fiction  \n",
      "26  Non Fiction  \n",
      "27  Non Fiction  \n",
      "28  Non Fiction  \n",
      "29  Non Fiction  \n",
      "30  Non Fiction  \n",
      "31  Non Fiction  \n",
      "32  Non Fiction  \n",
      "33  Non Fiction  \n",
      "34  Non Fiction  \n",
      "35  Non Fiction  \n",
      "36  Non Fiction  \n",
      "37  Non Fiction  \n",
      "38      Fiction  \n",
      "39  Non Fiction  \n",
      "40      Fiction  \n",
      "41      Fiction  \n",
      "42      Fiction  \n",
      "43  Non Fiction  \n",
      "44  Non Fiction  \n",
      "45  Non Fiction  \n",
      "46      Fiction  \n",
      "47      Fiction  \n",
      "48      Fiction  \n",
      "49  Non Fiction  \n"
     ]
    }
   ],
   "source": [
    "print(books_df.head(50))"
   ]
  },
  {
   "cell_type": "code",
   "execution_count": 6,
   "id": "c8e78d05-7a81-4c25-9852-b04944ce1b7b",
   "metadata": {},
   "outputs": [],
   "source": [
    "#Due to the year column there were several duplicate rows, so to remove duplicates we are removing the column Year.\n",
    "del books_df['Year']"
   ]
  },
  {
   "cell_type": "code",
   "execution_count": 7,
   "id": "e2cfe71b-2fbb-4426-801b-a179f7acb170",
   "metadata": {},
   "outputs": [
    {
     "name": "stdout",
     "output_type": "stream",
     "text": [
      "<class 'pandas.core.frame.DataFrame'>\n",
      "Int64Index: 361 entries, 0 to 546\n",
      "Data columns (total 6 columns):\n",
      " #   Column       Non-Null Count  Dtype  \n",
      "---  ------       --------------  -----  \n",
      " 0   Name         361 non-null    object \n",
      " 1   Author       361 non-null    object \n",
      " 2   User Rating  361 non-null    float64\n",
      " 3   Reviews      361 non-null    int64  \n",
      " 4   Price        361 non-null    int64  \n",
      " 5   Genre        361 non-null    object \n",
      "dtypes: float64(1), int64(2), object(3)\n",
      "memory usage: 19.7+ KB\n"
     ]
    }
   ],
   "source": [
    "books_df=books_df.drop_duplicates(keep='first')\n",
    "books_df.info()"
   ]
  },
  {
   "cell_type": "code",
   "execution_count": 8,
   "id": "565c077f-d8b4-4fa2-b58a-f5f401321608",
   "metadata": {},
   "outputs": [
    {
     "name": "stdout",
     "output_type": "stream",
     "text": [
      "[('The Help', 3), ('Gone Girl', 2), (\"Quiet: The Power of Introverts in a World That Can't Stop Talking\", 2), ('The 7 Habits of Highly Effective People: Powerful Lessons in Personal Change', 2), ('The Fault in Our Stars', 2), ('The Girl on the Train', 2), ('The Immortal Life of Henrietta Lacks', 2), ('To Kill a Mockingbird', 2), ('Unbroken: A World War II Story of Survival, Resilience, and Redemption', 2), ('10-Day Green Smoothie Cleanse', 1), ('11/22/63: A Novel', 1), ('12 Rules for Life: An Antidote to Chaos', 1), ('1984 (Signet Classics)', 1), ('5,000 Awesome Facts (About Everything!) (National Geographic Kids)', 1), ('A Dance with Dragons (A Song of Ice and Fire)', 1)]\n"
     ]
    }
   ],
   "source": [
    "from collections import Counter\n",
    "count_books=Counter(books_df.Name)\n",
    "print(count_books.most_common(15))"
   ]
  },
  {
   "cell_type": "code",
   "execution_count": 9,
   "id": "6aee5768-1cb4-4ad4-983d-6587851ad71a",
   "metadata": {},
   "outputs": [
    {
     "name": "stdout",
     "output_type": "stream",
     "text": [
      "         Name            Author  User Rating  Reviews  Price    Genre\n",
      "402  The Help  Kathryn Stockett          4.8    13871      6  Fiction\n",
      "404  The Help  Kathryn Stockett          4.8    13871      8  Fiction\n",
      "405  The Help  Kathryn Stockett          4.8    13871      7  Fiction\n"
     ]
    }
   ],
   "source": [
    "print(books_df[books_df['Name'] == 'The Help'])"
   ]
  },
  {
   "cell_type": "code",
   "execution_count": 10,
   "id": "fec6fa29-5bd3-4a91-9339-0a034524ad3f",
   "metadata": {},
   "outputs": [],
   "source": [
    "books_df=books_df.drop_duplicates(subset='Name',keep='last')"
   ]
  },
  {
   "cell_type": "code",
   "execution_count": 11,
   "id": "0b8db956-0da6-49b1-b935-aacf1cde26d5",
   "metadata": {},
   "outputs": [
    {
     "data": {
      "text/html": [
       "<div>\n",
       "<style scoped>\n",
       "    .dataframe tbody tr th:only-of-type {\n",
       "        vertical-align: middle;\n",
       "    }\n",
       "\n",
       "    .dataframe tbody tr th {\n",
       "        vertical-align: top;\n",
       "    }\n",
       "\n",
       "    .dataframe thead th {\n",
       "        text-align: right;\n",
       "    }\n",
       "</style>\n",
       "<table border=\"1\" class=\"dataframe\">\n",
       "  <thead>\n",
       "    <tr style=\"text-align: right;\">\n",
       "      <th></th>\n",
       "      <th>Name</th>\n",
       "      <th>Author</th>\n",
       "      <th>User Rating</th>\n",
       "      <th>Reviews</th>\n",
       "      <th>Price</th>\n",
       "      <th>Genre</th>\n",
       "    </tr>\n",
       "  </thead>\n",
       "  <tbody>\n",
       "    <tr>\n",
       "      <th>405</th>\n",
       "      <td>The Help</td>\n",
       "      <td>Kathryn Stockett</td>\n",
       "      <td>4.8</td>\n",
       "      <td>13871</td>\n",
       "      <td>7</td>\n",
       "      <td>Fiction</td>\n",
       "    </tr>\n",
       "  </tbody>\n",
       "</table>\n",
       "</div>"
      ],
      "text/plain": [
       "         Name            Author  User Rating  Reviews  Price    Genre\n",
       "405  The Help  Kathryn Stockett          4.8    13871      7  Fiction"
      ]
     },
     "execution_count": 11,
     "metadata": {},
     "output_type": "execute_result"
    }
   ],
   "source": [
    "books_df[books_df['Name']=='The Help']"
   ]
  },
  {
   "cell_type": "code",
   "execution_count": 12,
   "id": "2a22f09c-a173-4362-b39a-d373e7193490",
   "metadata": {},
   "outputs": [
    {
     "data": {
      "text/plain": [
       "351"
      ]
     },
     "execution_count": 12,
     "metadata": {},
     "output_type": "execute_result"
    }
   ],
   "source": [
    "books_df['Name'].nunique()"
   ]
  },
  {
   "cell_type": "code",
   "execution_count": 14,
   "id": "d813683a-0680-4e6d-92c8-49350ef1a325",
   "metadata": {},
   "outputs": [
    {
     "name": "stdout",
     "output_type": "stream",
     "text": [
      "                   Author  User Rating\n",
      "0          Nathan W. Pyle         4.90\n",
      "1          Patrick Thorpe         4.90\n",
      "2              Eric Carle         4.90\n",
      "3   Emily Winfield Martin         4.90\n",
      "4             Chip Gaines         4.90\n",
      "5              Jill Twiss         4.90\n",
      "6           Rush Limbaugh         4.90\n",
      "7    Sherri Duskey Rinker         4.90\n",
      "8          Alice Schertle         4.90\n",
      "9              Pete Souza         4.90\n",
      "10            Sarah Young         4.90\n",
      "11     Lin-Manuel Miranda         4.90\n",
      "12        Bill Martin Jr.         4.90\n",
      "13             Dav Pilkey         4.90\n",
      "14        Brandon Stanton         4.85\n"
     ]
    }
   ],
   "source": [
    "from matplotlib import pyplot as plt\n",
    "top_15_authors=books_df.groupby('Author')[['User Rating']].mean().sort_values('User Rating',ascending=False).head(15).reset_index()\n",
    "print(top_15_authors)"
   ]
  },
  {
   "cell_type": "code",
   "execution_count": 27,
   "id": "db84bcfc-9aa6-4898-a7f5-2b1c0081113c",
   "metadata": {},
   "outputs": [
    {
     "name": "stdout",
     "output_type": "stream",
     "text": [
      "            Author  Name\n",
      "0      Jeff Kinney    12\n",
      "1     Rick Riordan    10\n",
      "2     J.K. Rowling     8\n",
      "3  Stephenie Meyer     7\n",
      "4    Bill O'Reilly     6\n",
      "5       Dav Pilkey     6\n",
      "6        E L James     5\n",
      "7  Suzanne Collins     5\n",
      "8     John Grisham     5\n",
      "9    Stieg Larsson     4\n"
     ]
    },
    {
     "data": {
      "image/png": "[encoded data removed]",
      "text/plain": [
       "<Figure size 432x288 with 1 Axes>"
      ]
     },
     "metadata": {
      "needs_background": "light"
     },
     "output_type": "display_data"
    }
   ],
   "source": [
    "top_10_books=books_df.groupby('Author')[['Name']].count().sort_values('Name',ascending=False).head(10).reset_index()\n",
    "print(top_10_books)\n",
    "plt.bar(top_10_books['Author'],top_10_books['Name'])\n",
    "plt.xticks(rotation='vertical')\n",
    "plt.title('Top 10 Authors of Bestsellers')\n",
    "plt.show()"
   ]
  },
  {
   "cell_type": "code",
   "execution_count": 16,
   "id": "42dc91dc-454e-44ed-9ce2-3493ba078fca",
   "metadata": {},
   "outputs": [
    {
     "data": {
      "image/png": "[encoded data removed]",
      "text/plain": [
       "<Figure size 432x288 with 1 Axes>"
      ]
     },
     "metadata": {
      "needs_background": "light"
     },
     "output_type": "display_data"
    }
   ],
   "source": [
    "top_5_books_with_most_reviews=books_df.groupby('Name')[['Reviews']].sum().sort_values('Reviews',ascending=False).head(5).reset_index()\n",
    "plt.bar(top_5_books_with_most_reviews['Name'],top_5_books_with_most_reviews['Reviews'])\n",
    "plt.xticks(rotation='vertical')\n",
    "plt.show()"
   ]
  },
  {
   "cell_type": "code",
   "execution_count": 17,
   "id": "6a70f250-558c-434b-b0b7-d544a2bf7831",
   "metadata": {},
   "outputs": [
    {
     "data": {
      "text/plain": [
       "([<matplotlib.patches.Wedge at 0x7efe77aec190>,\n",
       "  <matplotlib.patches.Wedge at 0x7efe77aec670>],\n",
       " [Text(-0.15211534367268678, 1.08943146742663, 'Non Fiction'),\n",
       "  Text(0.15211534367268642, -1.08943146742663, 'Fiction')])"
      ]
     },
     "execution_count": 17,
     "metadata": {},
     "output_type": "execute_result"
    },
    {
     "data": {
      "image/png": "[encoded data removed]",
      "text/plain": [
       "<Figure size 432x288 with 1 Axes>"
      ]
     },
     "metadata": {},
     "output_type": "display_data"
    }
   ],
   "source": [
    "books_genre=books_df.groupby('Genre')[['Name']].count().sort_values('Name',ascending=False).head(10).reset_index()\n",
    "plt.pie(books_genre['Name'],labels=books_genre['Genre'])"
   ]
  },
  {
   "cell_type": "code",
   "execution_count": 18,
   "id": "2af49752-1b27-4c19-8673-d8eaa7b326ee",
   "metadata": {},
   "outputs": [
    {
     "data": {
      "text/html": [
       "<div>\n",
       "<style scoped>\n",
       "    .dataframe tbody tr th:only-of-type {\n",
       "        vertical-align: middle;\n",
       "    }\n",
       "\n",
       "    .dataframe tbody tr th {\n",
       "        vertical-align: top;\n",
       "    }\n",
       "\n",
       "    .dataframe thead th {\n",
       "        text-align: right;\n",
       "    }\n",
       "</style>\n",
       "<table border=\"1\" class=\"dataframe\">\n",
       "  <thead>\n",
       "    <tr style=\"text-align: right;\">\n",
       "      <th></th>\n",
       "      <th>count</th>\n",
       "      <th>mean</th>\n",
       "      <th>std</th>\n",
       "      <th>min</th>\n",
       "      <th>25%</th>\n",
       "      <th>50%</th>\n",
       "      <th>75%</th>\n",
       "      <th>max</th>\n",
       "    </tr>\n",
       "  </thead>\n",
       "  <tbody>\n",
       "    <tr>\n",
       "      <th>User Rating</th>\n",
       "      <td>351.0</td>\n",
       "      <td>4.609117</td>\n",
       "      <td>0.226721</td>\n",
       "      <td>3.3</td>\n",
       "      <td>4.5</td>\n",
       "      <td>4.6</td>\n",
       "      <td>4.8</td>\n",
       "      <td>4.9</td>\n",
       "    </tr>\n",
       "    <tr>\n",
       "      <th>Reviews</th>\n",
       "      <td>351.0</td>\n",
       "      <td>9786.578348</td>\n",
       "      <td>10874.702548</td>\n",
       "      <td>37.0</td>\n",
       "      <td>3442.5</td>\n",
       "      <td>6310.0</td>\n",
       "      <td>11470.5</td>\n",
       "      <td>87841.0</td>\n",
       "    </tr>\n",
       "    <tr>\n",
       "      <th>Price</th>\n",
       "      <td>351.0</td>\n",
       "      <td>12.968661</td>\n",
       "      <td>10.021214</td>\n",
       "      <td>0.0</td>\n",
       "      <td>7.5</td>\n",
       "      <td>11.0</td>\n",
       "      <td>16.0</td>\n",
       "      <td>105.0</td>\n",
       "    </tr>\n",
       "  </tbody>\n",
       "</table>\n",
       "</div>"
      ],
      "text/plain": [
       "             count         mean           std   min     25%     50%      75%  \\\n",
       "User Rating  351.0     4.609117      0.226721   3.3     4.5     4.6      4.8   \n",
       "Reviews      351.0  9786.578348  10874.702548  37.0  3442.5  6310.0  11470.5   \n",
       "Price        351.0    12.968661     10.021214   0.0     7.5    11.0     16.0   \n",
       "\n",
       "                 max  \n",
       "User Rating      4.9  \n",
       "Reviews      87841.0  \n",
       "Price          105.0  "
      ]
     },
     "execution_count": 18,
     "metadata": {},
     "output_type": "execute_result"
    }
   ],
   "source": [
    "books_df.describe().T"
   ]
  },
  {
   "cell_type": "code",
   "execution_count": 20,
   "id": "db98e912-6290-4759-b3f2-e68aa2a2673d",
   "metadata": {},
   "outputs": [
    {
     "data": {
      "image/png": "[encoded data removed]",
      "text/plain": [
       "<Figure size 432x288 with 1 Axes>"
      ]
     },
     "metadata": {
      "needs_background": "light"
     },
     "output_type": "display_data"
    }
   ],
   "source": [
    "plt.boxplot(books_df['User Rating'],vert=False)\n",
    "plt.show()"
   ]
  },
  {
   "cell_type": "code",
   "execution_count": 21,
   "id": "c21a9298-ed21-497b-8dcd-4905e55053bd",
   "metadata": {},
   "outputs": [
    {
     "data": {
      "image/png": "[encoded data removed]",
      "text/plain": [
       "<Figure size 432x288 with 1 Axes>"
      ]
     },
     "metadata": {
      "needs_background": "light"
     },
     "output_type": "display_data"
    }
   ],
   "source": [
    "plt.boxplot(books_df['Reviews'],vert=False)\n",
    "plt.show()"
   ]
  },
  {
   "cell_type": "code",
   "execution_count": 22,
   "id": "44e2f601-ea01-454a-be02-cf21a1ed8dc7",
   "metadata": {},
   "outputs": [
    {
     "data": {
      "image/png": "[encoded data removed]",
      "text/plain": [
       "<Figure size 432x288 with 1 Axes>"
      ]
     },
     "metadata": {
      "needs_background": "light"
     },
     "output_type": "display_data"
    }
   ],
   "source": [
    "plt.boxplot(books_df['Price'],vert=False)\n",
    "plt.show()"
   ]
  },
  {
   "cell_type": "code",
   "execution_count": 23,
   "id": "0c257f66-b366-4017-bfb2-2d1dd7c4fff2",
   "metadata": {},
   "outputs": [
    {
     "data": {
      "text/html": [
       "<div>\n",
       "<style scoped>\n",
       "    .dataframe tbody tr th:only-of-type {\n",
       "        vertical-align: middle;\n",
       "    }\n",
       "\n",
       "    .dataframe tbody tr th {\n",
       "        vertical-align: top;\n",
       "    }\n",
       "\n",
       "    .dataframe thead th {\n",
       "        text-align: right;\n",
       "    }\n",
       "</style>\n",
       "<table border=\"1\" class=\"dataframe\">\n",
       "  <thead>\n",
       "    <tr style=\"text-align: right;\">\n",
       "      <th></th>\n",
       "      <th>User Rating</th>\n",
       "      <th>Reviews</th>\n",
       "      <th>Price</th>\n",
       "    </tr>\n",
       "  </thead>\n",
       "  <tbody>\n",
       "    <tr>\n",
       "      <th>User Rating</th>\n",
       "      <td>1.000000</td>\n",
       "      <td>-0.056105</td>\n",
       "      <td>-0.026408</td>\n",
       "    </tr>\n",
       "    <tr>\n",
       "      <th>Reviews</th>\n",
       "      <td>-0.056105</td>\n",
       "      <td>1.000000</td>\n",
       "      <td>-0.048029</td>\n",
       "    </tr>\n",
       "    <tr>\n",
       "      <th>Price</th>\n",
       "      <td>-0.026408</td>\n",
       "      <td>-0.048029</td>\n",
       "      <td>1.000000</td>\n",
       "    </tr>\n",
       "  </tbody>\n",
       "</table>\n",
       "</div>"
      ],
      "text/plain": [
       "             User Rating   Reviews     Price\n",
       "User Rating     1.000000 -0.056105 -0.026408\n",
       "Reviews        -0.056105  1.000000 -0.048029\n",
       "Price          -0.026408 -0.048029  1.000000"
      ]
     },
     "execution_count": 23,
     "metadata": {},
     "output_type": "execute_result"
    }
   ],
   "source": [
    "books_df.corr()"
   ]
  },
  {
   "cell_type": "code",
   "execution_count": 24,
   "id": "b3821910-e427-4dde-a50f-998759c5f013",
   "metadata": {},
   "outputs": [
    {
     "data": {
      "image/png": "[encoded data removed]",
      "text/plain": [
       "<Figure size 432x288 with 1 Axes>"
      ]
     },
     "metadata": {
      "needs_background": "light"
     },
     "output_type": "display_data"
    }
   ],
   "source": [
    "plt.scatter(books_df['User Rating'],books_df['Reviews'])\n",
    "plt.show()"
   ]
  },
  {
   "cell_type": "code",
   "execution_count": 25,
   "id": "ddedf3e8-ef2c-40d3-921f-c2390ab1bb74",
   "metadata": {},
   "outputs": [
    {
     "data": {
      "image/png": "[encoded data removed]",
      "text/plain": [
       "<Figure size 432x288 with 1 Axes>"
      ]
     },
     "metadata": {
      "needs_background": "light"
     },
     "output_type": "display_data"
    }
   ],
   "source": [
    "plt.scatter(books_df['User Rating'],books_df['Price'])\n",
    "plt.show()"
   ]
  },
  {
   "cell_type": "code",
   "execution_count": 26,
   "id": "0b99960b-a5b8-4278-84f8-260ff6b5f210",
   "metadata": {},
   "outputs": [
    {
     "data": {
      "image/png": "[encoded data removed]",
      "text/plain": [
       "<Figure size 432x288 with 1 Axes>"
      ]
     },
     "metadata": {
      "needs_background": "light"
     },
     "output_type": "display_data"
    }
   ],
   "source": [
    "plt.scatter(books_df['Price'],books_df['Reviews'])\n",
    "plt.show()"
   ]
  },
  {
   "cell_type": "code",
   "execution_count": 29,
   "id": "5423aa1e-74ff-49cd-9bb4-198addc12583",
   "metadata": {},
   "outputs": [],
   "source": [
    "import scipy.stats as stats"
   ]
  },
  {
   "cell_type": "code",
   "execution_count": 40,
   "id": "12b3c756-b66b-4b3f-83fe-6213f7df4fe0",
   "metadata": {},
   "outputs": [
    {
     "name": "stdout",
     "output_type": "stream",
     "text": [
      "Reject H0 - Data is not distributed normally\n"
     ]
    }
   ],
   "source": [
    "alpha=0.05\n",
    "tstat,pval = stats.shapiro(books_df['User Rating'])\n",
    "\n",
    "if pval > alpha:\n",
    "    print('Accept H0 - Data is distributed normally')\n",
    "if pval < alpha:\n",
    "    print('Reject H0 - Data is not distributed normally')"
   ]
  },
  {
   "cell_type": "code",
   "execution_count": 42,
   "id": "71fcccc6-5b84-4882-bff1-db725d0dfd45",
   "metadata": {},
   "outputs": [],
   "source": [
    "non_fiction=books_df[books_df['Genre']=='Non Fiction']['User Rating']\n",
    "fiction=books_df[books_df['Genre']=='Fiction']['User Rating']"
   ]
  },
  {
   "cell_type": "code",
   "execution_count": 43,
   "id": "f233ac72-c407-4ba2-a8ac-5de00951a20f",
   "metadata": {},
   "outputs": [
    {
     "name": "stdout",
     "output_type": "stream",
     "text": [
      "Reject H0 - There are significant difference between the groups\n"
     ]
    }
   ],
   "source": [
    "alpha=0.05\n",
    "tstat,pval = stats.mannwhitneyu(non_fiction,fiction)\n",
    "if pval > 0.05:\n",
    "    print('Accept H0 - There is no significant difference in the groups')\n",
    "if pval < 0.05:\n",
    "    print('Reject H0 - There are significant difference between the groups')"
   ]
  },
  {
   "cell_type": "code",
   "execution_count": 49,
   "id": "8a9d9a14-f4f1-46a6-8943-b0e3f31ff4f1",
   "metadata": {},
   "outputs": [
    {
     "name": "stdout",
     "output_type": "stream",
     "text": [
      "Median of non fiction: 4.6 \n",
      "Median of fiction 4.7\n"
     ]
    }
   ],
   "source": [
    "print('Median of non fiction:', non_fiction.median(), '\\nMedian of fiction', fiction.median())"
   ]
  },
  {
   "cell_type": "code",
   "execution_count": 58,
   "id": "e36c336b-93be-45df-8b28-a56fe7e1e250",
   "metadata": {},
   "outputs": [
    {
     "data": {
      "text/plain": [
       "(array([ 1.,  2.,  5., 10., 19., 23., 47., 40., 38.,  6.]),\n",
       " array([4.  , 4.09, 4.18, 4.27, 4.36, 4.45, 4.54, 4.63, 4.72, 4.81, 4.9 ]),\n",
       " <BarContainer object of 10 artists>)"
      ]
     },
     "execution_count": 58,
     "metadata": {},
     "output_type": "execute_result"
    },
    {
     "data": {
      "image/png": "[encoded data removed]",
      "text/plain": [
       "<Figure size 432x288 with 1 Axes>"
      ]
     },
     "metadata": {
      "needs_background": "light"
     },
     "output_type": "display_data"
    }
   ],
   "source": [
    "plt.hist(fiction,alpha=0.5)\n",
    "plt.hist(non_fiction,alpha=0.5)"
   ]
  },
  {
   "cell_type": "code",
   "execution_count": 59,
   "id": "1a3b35bd-16a4-44fe-a0aa-76af73a46ab0",
   "metadata": {},
   "outputs": [],
   "source": [
    "#insight - As a result of the testing, statistically significant differences were obtained between the compared groups. Based on the results obtained, \n",
    "#it can be argued that users evaluate books differently depending on the genre, and based on the median values, readers give preference to works of fiction."
   ]
  },
  {
   "cell_type": "code",
   "execution_count": null,
   "id": "5dd8b001-964e-49ed-b0c0-a71c5b0f0a34",
   "metadata": {},
   "outputs": [],
   "source": []
  }
 ],
 "metadata": {
  "kernelspec": {
   "display_name": "Python 3 (ipykernel)",
   "language": "python",
   "name": "python3"
  },
  "language_info": {
   "codemirror_mode": {
    "name": "ipython",
    "version": 3
   },
   "file_extension": ".py",
   "mimetype": "text/x-python",
   "name": "python",
   "nbconvert_exporter": "python",
   "pygments_lexer": "ipython3",
   "version": "3.8.10"
  }
 },
 "nbformat": 4,
 "nbformat_minor": 5
}
